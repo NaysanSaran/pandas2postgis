{
 "cells": [
  {
   "cell_type": "raw",
   "metadata": {},
   "source": [
    "create table stations (\n",
    "    name varchar(64),\n",
    "    geom geometry(Point, 4326)\n",
    ");\n",
    "\n",
    "grant select, insert, update, delete on table stations to myuser;"
   ]
  },
  {
   "cell_type": "code",
   "execution_count": 5,
   "metadata": {},
   "outputs": [],
   "source": [
    "import os\n",
    "import sys\n",
    "import pandas as pd\n",
    "import psycopg2\n",
    "\n",
    "\n",
    "# Connection parameters\n",
    "param_dic = {\n",
    "    \"host\"      : \"localhost\",\n",
    "    \"database\"  : \"globaldata\",\n",
    "    \"user\"      : \"myuser\",\n",
    "    \"password\"  : \"Passw0rd\"\n",
    "}\n",
    "\n",
    "\n",
    "def connect(params_dic):\n",
    "    \"\"\" Connect to the PostgreSQL database server \"\"\"\n",
    "    conn = None\n",
    "    try:\n",
    "        # connect to the PostgreSQL server\n",
    "        print('Connecting to the PostgreSQL database...')\n",
    "        conn = psycopg2.connect(**params_dic)\n",
    "    except (Exception, psycopg2.DatabaseError) as error:\n",
    "        print(error)\n",
    "        sys.exit(1)\n",
    "    print(\"Connection successful\")\n",
    "    return conn\n",
    "\n",
    "\n",
    "def execute_query(conn, query):\n",
    "    \"\"\" Execute a single query \"\"\"\n",
    "\n",
    "    ret = 0 # Return value\n",
    "    cursor = conn.cursor()\n",
    "    try:\n",
    "        cursor.execute(query)\n",
    "        conn.commit()\n",
    "    except (Exception, psycopg2.DatabaseError) as error:\n",
    "        print(\"Error: %s\" % error)\n",
    "        conn.rollback()\n",
    "        cursor.close()\n",
    "        return 1\n",
    "    # If this was a select query, return the result\n",
    "    if 'select' in query.lower():\n",
    "        ret = cursor.fetchall()\n",
    "    cursor.close()\n",
    "    return ret\n",
    "\n",
    "\n",
    "def single_inserts(conn, df, table):\n",
    "    \"\"\"\n",
    "    Perform single inserts of the dataframe\n",
    "    into the PostGIS table\n",
    "    \"\"\"\n",
    "    for i in df.index:\n",
    "        vals  = [df.at[i,col] for col in list(df.columns)]\n",
    "        query = \"\"\" INSERT INTO %s(name, geom) \n",
    "                    VALUES('%s', ST_GeomFromText('POINT(%s %s)', 4326))\n",
    "                \"\"\" % (\n",
    "            table,\n",
    "            vals[0],\n",
    "            vals[1],\n",
    "            vals[2]\n",
    "        )\n",
    "        execute_query(conn, query)\n",
    "\n",
    "\n",
    "\n",
    "def main():\n",
    "\n",
    "    # Database connection\n",
    "    conn = connect(param_dic)\n",
    "    # Read the csv file\n",
    "    df = pd.read_csv(\"./stations.csv\")\n",
    "    print(df.head())\n",
    "    #Run the execute_many strategy\n",
    "    single_inserts(conn, df, 'stations')\n",
    "    # Close the connection\n",
    "    conn.close()\n"
   ]
  },
  {
   "cell_type": "code",
   "execution_count": 6,
   "metadata": {},
   "outputs": [
    {
     "name": "stdout",
     "output_type": "stream",
     "text": [
      "Connecting to the PostgreSQL database...\n",
      "Connection successful\n",
      "                         name  longitude   latitude\n",
      "0                 Du Quartier -73.433737  45.447199\n",
      "1                      Panama -73.468134  45.467379\n",
      "2              Ile-des-Soeurs -73.539361  45.470530\n",
      "3  Griffintown-Bernard-Landry -73.559108  45.496157\n",
      "4             Central Station -73.566500  45.501156\n"
     ]
    }
   ],
   "source": [
    "main()"
   ]
  },
  {
   "cell_type": "code",
   "execution_count": null,
   "metadata": {},
   "outputs": [],
   "source": []
  }
 ],
 "metadata": {
  "kernelspec": {
   "display_name": "Python 3",
   "language": "python",
   "name": "python3"
  },
  "language_info": {
   "codemirror_mode": {
    "name": "ipython",
    "version": 3
   },
   "file_extension": ".py",
   "mimetype": "text/x-python",
   "name": "python",
   "nbconvert_exporter": "python",
   "pygments_lexer": "ipython3",
   "version": "3.6.8"
  }
 },
 "nbformat": 4,
 "nbformat_minor": 2
}
